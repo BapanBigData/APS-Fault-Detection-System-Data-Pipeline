{
 "cells": [
  {
   "cell_type": "code",
   "execution_count": 1,
   "metadata": {},
   "outputs": [
    {
     "data": {
      "text/plain": [
       "'logs\\\\log_2024-08-07-01-18-54.log'"
      ]
     },
     "execution_count": 1,
     "metadata": {},
     "output_type": "execute_result"
    }
   ],
   "source": [
    "import logging\n",
    "from datetime import datetime\n",
    "import os\n",
    "\n",
    "LOG_DIR = \"logs\"\n",
    "\n",
    "def get_log_file_name():\n",
    "    return f\"log_{datetime.now().strftime('%Y-%m-%d-%H-%M-%S')}.log\"\n",
    "\n",
    "LOG_FILE_NAME = get_log_file_name()\n",
    "\n",
    "os.makedirs(LOG_DIR, exist_ok=True)\n",
    "\n",
    "LOG_FILE_PATH = os.path.join(LOG_DIR, LOG_FILE_NAME)\n",
    "\n",
    "LOG_FILE_PATH"
   ]
  },
  {
   "cell_type": "code",
   "execution_count": 4,
   "metadata": {},
   "outputs": [],
   "source": [
    "import pandas as pd"
   ]
  },
  {
   "cell_type": "code",
   "execution_count": 9,
   "metadata": {},
   "outputs": [
    {
     "data": {
      "text/plain": [
       "<pandas.io.parsers.readers.TextFileReader at 0x233f2bcffd0>"
      ]
     },
     "execution_count": 9,
     "metadata": {},
     "output_type": "execute_result"
    }
   ],
   "source": [
    "chunk_df = pd.read_csv(r'titanic.csv', chunksize=10)\n",
    "chunk_df"
   ]
  },
  {
   "cell_type": "code",
   "execution_count": 17,
   "metadata": {},
   "outputs": [
    {
     "data": {
      "text/html": [
       "<div>\n",
       "<style scoped>\n",
       "    .dataframe tbody tr th:only-of-type {\n",
       "        vertical-align: middle;\n",
       "    }\n",
       "\n",
       "    .dataframe tbody tr th {\n",
       "        vertical-align: top;\n",
       "    }\n",
       "\n",
       "    .dataframe thead th {\n",
       "        text-align: right;\n",
       "    }\n",
       "</style>\n",
       "<table border=\"1\" class=\"dataframe\">\n",
       "  <thead>\n",
       "    <tr style=\"text-align: right;\">\n",
       "      <th></th>\n",
       "      <th>PassengerId</th>\n",
       "      <th>Survived</th>\n",
       "      <th>Pclass</th>\n",
       "      <th>Name</th>\n",
       "      <th>Sex</th>\n",
       "      <th>Age</th>\n",
       "      <th>SibSp</th>\n",
       "      <th>Parch</th>\n",
       "      <th>Ticket</th>\n",
       "      <th>Fare</th>\n",
       "      <th>Cabin</th>\n",
       "      <th>Embarked</th>\n",
       "    </tr>\n",
       "  </thead>\n",
       "  <tbody>\n",
       "    <tr>\n",
       "      <th>60</th>\n",
       "      <td>61</td>\n",
       "      <td>0</td>\n",
       "      <td>3</td>\n",
       "      <td>Sirayanian, Mr. Orsen</td>\n",
       "      <td>male</td>\n",
       "      <td>22.0</td>\n",
       "      <td>0</td>\n",
       "      <td>0</td>\n",
       "      <td>2669</td>\n",
       "      <td>7.2292</td>\n",
       "      <td>NaN</td>\n",
       "      <td>C</td>\n",
       "    </tr>\n",
       "    <tr>\n",
       "      <th>61</th>\n",
       "      <td>62</td>\n",
       "      <td>1</td>\n",
       "      <td>1</td>\n",
       "      <td>Icard, Miss. Amelie</td>\n",
       "      <td>female</td>\n",
       "      <td>38.0</td>\n",
       "      <td>0</td>\n",
       "      <td>0</td>\n",
       "      <td>113572</td>\n",
       "      <td>80.0000</td>\n",
       "      <td>B28</td>\n",
       "      <td>NaN</td>\n",
       "    </tr>\n",
       "    <tr>\n",
       "      <th>62</th>\n",
       "      <td>63</td>\n",
       "      <td>0</td>\n",
       "      <td>1</td>\n",
       "      <td>Harris, Mr. Henry Birkhardt</td>\n",
       "      <td>male</td>\n",
       "      <td>45.0</td>\n",
       "      <td>1</td>\n",
       "      <td>0</td>\n",
       "      <td>36973</td>\n",
       "      <td>83.4750</td>\n",
       "      <td>C83</td>\n",
       "      <td>S</td>\n",
       "    </tr>\n",
       "    <tr>\n",
       "      <th>63</th>\n",
       "      <td>64</td>\n",
       "      <td>0</td>\n",
       "      <td>3</td>\n",
       "      <td>Skoog, Master. Harald</td>\n",
       "      <td>male</td>\n",
       "      <td>4.0</td>\n",
       "      <td>3</td>\n",
       "      <td>2</td>\n",
       "      <td>347088</td>\n",
       "      <td>27.9000</td>\n",
       "      <td>NaN</td>\n",
       "      <td>S</td>\n",
       "    </tr>\n",
       "    <tr>\n",
       "      <th>64</th>\n",
       "      <td>65</td>\n",
       "      <td>0</td>\n",
       "      <td>1</td>\n",
       "      <td>Stewart, Mr. Albert A</td>\n",
       "      <td>male</td>\n",
       "      <td>NaN</td>\n",
       "      <td>0</td>\n",
       "      <td>0</td>\n",
       "      <td>PC 17605</td>\n",
       "      <td>27.7208</td>\n",
       "      <td>NaN</td>\n",
       "      <td>C</td>\n",
       "    </tr>\n",
       "    <tr>\n",
       "      <th>65</th>\n",
       "      <td>66</td>\n",
       "      <td>1</td>\n",
       "      <td>3</td>\n",
       "      <td>Moubarek, Master. Gerios</td>\n",
       "      <td>male</td>\n",
       "      <td>NaN</td>\n",
       "      <td>1</td>\n",
       "      <td>1</td>\n",
       "      <td>2661</td>\n",
       "      <td>15.2458</td>\n",
       "      <td>NaN</td>\n",
       "      <td>C</td>\n",
       "    </tr>\n",
       "    <tr>\n",
       "      <th>66</th>\n",
       "      <td>67</td>\n",
       "      <td>1</td>\n",
       "      <td>2</td>\n",
       "      <td>Nye, Mrs. (Elizabeth Ramell)</td>\n",
       "      <td>female</td>\n",
       "      <td>29.0</td>\n",
       "      <td>0</td>\n",
       "      <td>0</td>\n",
       "      <td>C.A. 29395</td>\n",
       "      <td>10.5000</td>\n",
       "      <td>F33</td>\n",
       "      <td>S</td>\n",
       "    </tr>\n",
       "    <tr>\n",
       "      <th>67</th>\n",
       "      <td>68</td>\n",
       "      <td>0</td>\n",
       "      <td>3</td>\n",
       "      <td>Crease, Mr. Ernest James</td>\n",
       "      <td>male</td>\n",
       "      <td>19.0</td>\n",
       "      <td>0</td>\n",
       "      <td>0</td>\n",
       "      <td>S.P. 3464</td>\n",
       "      <td>8.1583</td>\n",
       "      <td>NaN</td>\n",
       "      <td>S</td>\n",
       "    </tr>\n",
       "    <tr>\n",
       "      <th>68</th>\n",
       "      <td>69</td>\n",
       "      <td>1</td>\n",
       "      <td>3</td>\n",
       "      <td>Andersson, Miss. Erna Alexandra</td>\n",
       "      <td>female</td>\n",
       "      <td>17.0</td>\n",
       "      <td>4</td>\n",
       "      <td>2</td>\n",
       "      <td>3101281</td>\n",
       "      <td>7.9250</td>\n",
       "      <td>NaN</td>\n",
       "      <td>S</td>\n",
       "    </tr>\n",
       "    <tr>\n",
       "      <th>69</th>\n",
       "      <td>70</td>\n",
       "      <td>0</td>\n",
       "      <td>3</td>\n",
       "      <td>Kink, Mr. Vincenz</td>\n",
       "      <td>male</td>\n",
       "      <td>26.0</td>\n",
       "      <td>2</td>\n",
       "      <td>0</td>\n",
       "      <td>315151</td>\n",
       "      <td>8.6625</td>\n",
       "      <td>NaN</td>\n",
       "      <td>S</td>\n",
       "    </tr>\n",
       "  </tbody>\n",
       "</table>\n",
       "</div>"
      ],
      "text/plain": [
       "    PassengerId  Survived  Pclass                             Name     Sex  \\\n",
       "60           61         0       3            Sirayanian, Mr. Orsen    male   \n",
       "61           62         1       1              Icard, Miss. Amelie  female   \n",
       "62           63         0       1      Harris, Mr. Henry Birkhardt    male   \n",
       "63           64         0       3            Skoog, Master. Harald    male   \n",
       "64           65         0       1            Stewart, Mr. Albert A    male   \n",
       "65           66         1       3         Moubarek, Master. Gerios    male   \n",
       "66           67         1       2     Nye, Mrs. (Elizabeth Ramell)  female   \n",
       "67           68         0       3         Crease, Mr. Ernest James    male   \n",
       "68           69         1       3  Andersson, Miss. Erna Alexandra  female   \n",
       "69           70         0       3                Kink, Mr. Vincenz    male   \n",
       "\n",
       "     Age  SibSp  Parch      Ticket     Fare Cabin Embarked  \n",
       "60  22.0      0      0        2669   7.2292   NaN        C  \n",
       "61  38.0      0      0      113572  80.0000   B28      NaN  \n",
       "62  45.0      1      0       36973  83.4750   C83        S  \n",
       "63   4.0      3      2      347088  27.9000   NaN        S  \n",
       "64   NaN      0      0    PC 17605  27.7208   NaN        C  \n",
       "65   NaN      1      1        2661  15.2458   NaN        C  \n",
       "66  29.0      0      0  C.A. 29395  10.5000   F33        S  \n",
       "67  19.0      0      0   S.P. 3464   8.1583   NaN        S  \n",
       "68  17.0      4      2     3101281   7.9250   NaN        S  \n",
       "69  26.0      2      0      315151   8.6625   NaN        S  "
      ]
     },
     "execution_count": 17,
     "metadata": {},
     "output_type": "execute_result"
    }
   ],
   "source": [
    "next(chunk_df)"
   ]
  },
  {
   "cell_type": "code",
   "execution_count": 23,
   "metadata": {},
   "outputs": [
    {
     "data": {
      "text/plain": [
       "(891, 12)"
      ]
     },
     "execution_count": 23,
     "metadata": {},
     "output_type": "execute_result"
    }
   ],
   "source": [
    "df = pd.read_csv(r'titanic.csv')\n",
    "df.shape"
   ]
  },
  {
   "cell_type": "code",
   "execution_count": 24,
   "metadata": {},
   "outputs": [
    {
     "data": {
      "text/plain": [
       "Index(['PassengerId', 'Survived', 'Pclass', 'Name', 'Sex', 'Age', 'SibSp',\n",
       "       'Parch', 'Ticket', 'Fare', 'Cabin', 'Embarked'],\n",
       "      dtype='object')"
      ]
     },
     "execution_count": 24,
     "metadata": {},
     "output_type": "execute_result"
    }
   ],
   "source": [
    "df.columns"
   ]
  },
  {
   "cell_type": "code",
   "execution_count": 26,
   "metadata": {},
   "outputs": [
    {
     "data": {
      "text/plain": [
       "array([1, 0, 3, 'Braund, Mr. Owen Harris', 'male', 22.0, 1, 0,\n",
       "       'A/5 21171', 7.25, nan, 'S'], dtype=object)"
      ]
     },
     "execution_count": 26,
     "metadata": {},
     "output_type": "execute_result"
    }
   ],
   "source": [
    "df.values[0, :]"
   ]
  },
  {
   "cell_type": "code",
   "execution_count": 31,
   "metadata": {},
   "outputs": [
    {
     "data": {
      "text/plain": [
       "{'PassengerId': 1,\n",
       " 'Survived': 0,\n",
       " 'Pclass': 3,\n",
       " 'Name': 'Braund, Mr. Owen Harris',\n",
       " 'Sex': 'male',\n",
       " 'Age': 22.0,\n",
       " 'SibSp': 1,\n",
       " 'Parch': 0,\n",
       " 'Ticket': 'A/5 21171',\n",
       " 'Fare': 7.25,\n",
       " 'Cabin': nan,\n",
       " 'Embarked': 'S'}"
      ]
     },
     "execution_count": 31,
     "metadata": {},
     "output_type": "execute_result"
    }
   ],
   "source": [
    "dict(zip(df.columns, df.values[0, :]))"
   ]
  },
  {
   "cell_type": "code",
   "execution_count": 6,
   "metadata": {},
   "outputs": [],
   "source": [
    "import json\n",
    "import pandas as pd\n",
    "\n",
    "class Generic:\n",
    "    \n",
    "    def __init__(self, record: dict) -> None:\n",
    "        for k, v in record.items():\n",
    "            setattr(self, k, v)\n",
    "    \n",
    "    @staticmethod\n",
    "    def dict_to_object(data: dict):\n",
    "        return Generic(data)\n",
    "    \n",
    "    def to_dict(self):\n",
    "        return self.__dict__\n",
    "    \n",
    "    @classmethod\n",
    "    def get_object(cls, file_path):\n",
    "        chunk_df = pd.read_csv(file_path, chunksize=10)\n",
    "        \n",
    "        for df in chunk_df:\n",
    "            for data in df.values:\n",
    "                generic = Generic(dict(zip(df.columns, data)))\n",
    "                yield generic\n",
    "                \n",
    "    @classmethod\n",
    "    def export_schema_to_create_confluent_schema(cls, file_path):\n",
    "        columns = next(pd.read_csv(file_path, chunksize=10)).columns\n",
    "\n",
    "        schema = {\n",
    "            \"type\": \"record\",\n",
    "            \"namespace\": \"com.mycorp.mynamespace\",\n",
    "            \"name\": \"sampleRecord\",\n",
    "            \"doc\": \"Sample schema to help you get started.\",\n",
    "            \"fields\": []\n",
    "        }\n",
    "        \n",
    "        for column in columns:\n",
    "            schema[\"fields\"].append({\n",
    "                \"name\": column,\n",
    "                \"type\": \"string\",\n",
    "                \"doc\": \"The string type.\"\n",
    "            })\n",
    "\n",
    "        with open(\"car_sensor.json\", \"w\") as f:\n",
    "            json.dump(schema, f)\n",
    "\n",
    "        schema_json = json.dumps(schema)\n",
    "        \n",
    "        return schema_json\n",
    "    \n",
    "    def __str__(self) -> str:\n",
    "        return f\"{self.__dict__}\"\n",
    "    "
   ]
  },
  {
   "cell_type": "code",
   "execution_count": 56,
   "metadata": {},
   "outputs": [
    {
     "name": "stdout",
     "output_type": "stream",
     "text": [
      "{'name': 'Bapan', 'city': 'Bangalore'}\n"
     ]
    }
   ],
   "source": [
    "generic = Generic({'name': 'Bapan', 'city': 'Bangalore'})\n",
    "print(generic)"
   ]
  },
  {
   "cell_type": "code",
   "execution_count": 7,
   "metadata": {},
   "outputs": [
    {
     "data": {
      "text/plain": [
       "'{\"type\": \"record\", \"namespace\": \"com.mycorp.mynamespace\", \"name\": \"sampleRecord\", \"doc\": \"Sample schema to help you get started.\", \"fields\": [{\"name\": \"class\", \"type\": \"string\", \"doc\": \"The string type.\"}, {\"name\": \"aa_000\", \"type\": \"string\", \"doc\": \"The string type.\"}, {\"name\": \"ab_000\", \"type\": \"string\", \"doc\": \"The string type.\"}, {\"name\": \"ac_000\", \"type\": \"string\", \"doc\": \"The string type.\"}, {\"name\": \"ad_000\", \"type\": \"string\", \"doc\": \"The string type.\"}, {\"name\": \"ae_000\", \"type\": \"string\", \"doc\": \"The string type.\"}, {\"name\": \"af_000\", \"type\": \"string\", \"doc\": \"The string type.\"}, {\"name\": \"ag_000\", \"type\": \"string\", \"doc\": \"The string type.\"}, {\"name\": \"ag_001\", \"type\": \"string\", \"doc\": \"The string type.\"}, {\"name\": \"ag_002\", \"type\": \"string\", \"doc\": \"The string type.\"}, {\"name\": \"ag_003\", \"type\": \"string\", \"doc\": \"The string type.\"}, {\"name\": \"ag_004\", \"type\": \"string\", \"doc\": \"The string type.\"}, {\"name\": \"ag_005\", \"type\": \"string\", \"doc\": \"The string type.\"}, {\"name\": \"ag_006\", \"type\": \"string\", \"doc\": \"The string type.\"}, {\"name\": \"ag_007\", \"type\": \"string\", \"doc\": \"The string type.\"}, {\"name\": \"ag_008\", \"type\": \"string\", \"doc\": \"The string type.\"}, {\"name\": \"ag_009\", \"type\": \"string\", \"doc\": \"The string type.\"}, {\"name\": \"ah_000\", \"type\": \"string\", \"doc\": \"The string type.\"}, {\"name\": \"ai_000\", \"type\": \"string\", \"doc\": \"The string type.\"}, {\"name\": \"aj_000\", \"type\": \"string\", \"doc\": \"The string type.\"}, {\"name\": \"ak_000\", \"type\": \"string\", \"doc\": \"The string type.\"}, {\"name\": \"al_000\", \"type\": \"string\", \"doc\": \"The string type.\"}, {\"name\": \"am_0\", \"type\": \"string\", \"doc\": \"The string type.\"}, {\"name\": \"an_000\", \"type\": \"string\", \"doc\": \"The string type.\"}, {\"name\": \"ao_000\", \"type\": \"string\", \"doc\": \"The string type.\"}, {\"name\": \"ap_000\", \"type\": \"string\", \"doc\": \"The string type.\"}, {\"name\": \"aq_000\", \"type\": \"string\", \"doc\": \"The string type.\"}, {\"name\": \"ar_000\", \"type\": \"string\", \"doc\": \"The string type.\"}, {\"name\": \"as_000\", \"type\": \"string\", \"doc\": \"The string type.\"}, {\"name\": \"at_000\", \"type\": \"string\", \"doc\": \"The string type.\"}, {\"name\": \"au_000\", \"type\": \"string\", \"doc\": \"The string type.\"}, {\"name\": \"av_000\", \"type\": \"string\", \"doc\": \"The string type.\"}, {\"name\": \"ax_000\", \"type\": \"string\", \"doc\": \"The string type.\"}, {\"name\": \"ay_000\", \"type\": \"string\", \"doc\": \"The string type.\"}, {\"name\": \"ay_001\", \"type\": \"string\", \"doc\": \"The string type.\"}, {\"name\": \"ay_002\", \"type\": \"string\", \"doc\": \"The string type.\"}, {\"name\": \"ay_003\", \"type\": \"string\", \"doc\": \"The string type.\"}, {\"name\": \"ay_004\", \"type\": \"string\", \"doc\": \"The string type.\"}, {\"name\": \"ay_005\", \"type\": \"string\", \"doc\": \"The string type.\"}, {\"name\": \"ay_006\", \"type\": \"string\", \"doc\": \"The string type.\"}, {\"name\": \"ay_007\", \"type\": \"string\", \"doc\": \"The string type.\"}, {\"name\": \"ay_008\", \"type\": \"string\", \"doc\": \"The string type.\"}, {\"name\": \"ay_009\", \"type\": \"string\", \"doc\": \"The string type.\"}, {\"name\": \"az_000\", \"type\": \"string\", \"doc\": \"The string type.\"}, {\"name\": \"az_001\", \"type\": \"string\", \"doc\": \"The string type.\"}, {\"name\": \"az_002\", \"type\": \"string\", \"doc\": \"The string type.\"}, {\"name\": \"az_003\", \"type\": \"string\", \"doc\": \"The string type.\"}, {\"name\": \"az_004\", \"type\": \"string\", \"doc\": \"The string type.\"}, {\"name\": \"az_005\", \"type\": \"string\", \"doc\": \"The string type.\"}, {\"name\": \"az_006\", \"type\": \"string\", \"doc\": \"The string type.\"}, {\"name\": \"az_007\", \"type\": \"string\", \"doc\": \"The string type.\"}, {\"name\": \"az_008\", \"type\": \"string\", \"doc\": \"The string type.\"}, {\"name\": \"az_009\", \"type\": \"string\", \"doc\": \"The string type.\"}, {\"name\": \"ba_000\", \"type\": \"string\", \"doc\": \"The string type.\"}, {\"name\": \"ba_001\", \"type\": \"string\", \"doc\": \"The string type.\"}, {\"name\": \"ba_002\", \"type\": \"string\", \"doc\": \"The string type.\"}, {\"name\": \"ba_003\", \"type\": \"string\", \"doc\": \"The string type.\"}, {\"name\": \"ba_004\", \"type\": \"string\", \"doc\": \"The string type.\"}, {\"name\": \"ba_005\", \"type\": \"string\", \"doc\": \"The string type.\"}, {\"name\": \"ba_006\", \"type\": \"string\", \"doc\": \"The string type.\"}, {\"name\": \"ba_007\", \"type\": \"string\", \"doc\": \"The string type.\"}, {\"name\": \"ba_008\", \"type\": \"string\", \"doc\": \"The string type.\"}, {\"name\": \"ba_009\", \"type\": \"string\", \"doc\": \"The string type.\"}, {\"name\": \"bb_000\", \"type\": \"string\", \"doc\": \"The string type.\"}, {\"name\": \"bc_000\", \"type\": \"string\", \"doc\": \"The string type.\"}, {\"name\": \"bd_000\", \"type\": \"string\", \"doc\": \"The string type.\"}, {\"name\": \"be_000\", \"type\": \"string\", \"doc\": \"The string type.\"}, {\"name\": \"bf_000\", \"type\": \"string\", \"doc\": \"The string type.\"}, {\"name\": \"bg_000\", \"type\": \"string\", \"doc\": \"The string type.\"}, {\"name\": \"bh_000\", \"type\": \"string\", \"doc\": \"The string type.\"}, {\"name\": \"bi_000\", \"type\": \"string\", \"doc\": \"The string type.\"}, {\"name\": \"bj_000\", \"type\": \"string\", \"doc\": \"The string type.\"}, {\"name\": \"bk_000\", \"type\": \"string\", \"doc\": \"The string type.\"}, {\"name\": \"bl_000\", \"type\": \"string\", \"doc\": \"The string type.\"}, {\"name\": \"bm_000\", \"type\": \"string\", \"doc\": \"The string type.\"}, {\"name\": \"bn_000\", \"type\": \"string\", \"doc\": \"The string type.\"}, {\"name\": \"bo_000\", \"type\": \"string\", \"doc\": \"The string type.\"}, {\"name\": \"bp_000\", \"type\": \"string\", \"doc\": \"The string type.\"}, {\"name\": \"bq_000\", \"type\": \"string\", \"doc\": \"The string type.\"}, {\"name\": \"br_000\", \"type\": \"string\", \"doc\": \"The string type.\"}, {\"name\": \"bs_000\", \"type\": \"string\", \"doc\": \"The string type.\"}, {\"name\": \"bt_000\", \"type\": \"string\", \"doc\": \"The string type.\"}, {\"name\": \"bu_000\", \"type\": \"string\", \"doc\": \"The string type.\"}, {\"name\": \"bv_000\", \"type\": \"string\", \"doc\": \"The string type.\"}, {\"name\": \"bx_000\", \"type\": \"string\", \"doc\": \"The string type.\"}, {\"name\": \"by_000\", \"type\": \"string\", \"doc\": \"The string type.\"}, {\"name\": \"bz_000\", \"type\": \"string\", \"doc\": \"The string type.\"}, {\"name\": \"ca_000\", \"type\": \"string\", \"doc\": \"The string type.\"}, {\"name\": \"cb_000\", \"type\": \"string\", \"doc\": \"The string type.\"}, {\"name\": \"cc_000\", \"type\": \"string\", \"doc\": \"The string type.\"}, {\"name\": \"cd_000\", \"type\": \"string\", \"doc\": \"The string type.\"}, {\"name\": \"ce_000\", \"type\": \"string\", \"doc\": \"The string type.\"}, {\"name\": \"cf_000\", \"type\": \"string\", \"doc\": \"The string type.\"}, {\"name\": \"cg_000\", \"type\": \"string\", \"doc\": \"The string type.\"}, {\"name\": \"ch_000\", \"type\": \"string\", \"doc\": \"The string type.\"}, {\"name\": \"ci_000\", \"type\": \"string\", \"doc\": \"The string type.\"}, {\"name\": \"cj_000\", \"type\": \"string\", \"doc\": \"The string type.\"}, {\"name\": \"ck_000\", \"type\": \"string\", \"doc\": \"The string type.\"}, {\"name\": \"cl_000\", \"type\": \"string\", \"doc\": \"The string type.\"}, {\"name\": \"cm_000\", \"type\": \"string\", \"doc\": \"The string type.\"}, {\"name\": \"cn_000\", \"type\": \"string\", \"doc\": \"The string type.\"}, {\"name\": \"cn_001\", \"type\": \"string\", \"doc\": \"The string type.\"}, {\"name\": \"cn_002\", \"type\": \"string\", \"doc\": \"The string type.\"}, {\"name\": \"cn_003\", \"type\": \"string\", \"doc\": \"The string type.\"}, {\"name\": \"cn_004\", \"type\": \"string\", \"doc\": \"The string type.\"}, {\"name\": \"cn_005\", \"type\": \"string\", \"doc\": \"The string type.\"}, {\"name\": \"cn_006\", \"type\": \"string\", \"doc\": \"The string type.\"}, {\"name\": \"cn_007\", \"type\": \"string\", \"doc\": \"The string type.\"}, {\"name\": \"cn_008\", \"type\": \"string\", \"doc\": \"The string type.\"}, {\"name\": \"cn_009\", \"type\": \"string\", \"doc\": \"The string type.\"}, {\"name\": \"co_000\", \"type\": \"string\", \"doc\": \"The string type.\"}, {\"name\": \"cp_000\", \"type\": \"string\", \"doc\": \"The string type.\"}, {\"name\": \"cq_000\", \"type\": \"string\", \"doc\": \"The string type.\"}, {\"name\": \"cr_000\", \"type\": \"string\", \"doc\": \"The string type.\"}, {\"name\": \"cs_000\", \"type\": \"string\", \"doc\": \"The string type.\"}, {\"name\": \"cs_001\", \"type\": \"string\", \"doc\": \"The string type.\"}, {\"name\": \"cs_002\", \"type\": \"string\", \"doc\": \"The string type.\"}, {\"name\": \"cs_003\", \"type\": \"string\", \"doc\": \"The string type.\"}, {\"name\": \"cs_004\", \"type\": \"string\", \"doc\": \"The string type.\"}, {\"name\": \"cs_005\", \"type\": \"string\", \"doc\": \"The string type.\"}, {\"name\": \"cs_006\", \"type\": \"string\", \"doc\": \"The string type.\"}, {\"name\": \"cs_007\", \"type\": \"string\", \"doc\": \"The string type.\"}, {\"name\": \"cs_008\", \"type\": \"string\", \"doc\": \"The string type.\"}, {\"name\": \"cs_009\", \"type\": \"string\", \"doc\": \"The string type.\"}, {\"name\": \"ct_000\", \"type\": \"string\", \"doc\": \"The string type.\"}, {\"name\": \"cu_000\", \"type\": \"string\", \"doc\": \"The string type.\"}, {\"name\": \"cv_000\", \"type\": \"string\", \"doc\": \"The string type.\"}, {\"name\": \"cx_000\", \"type\": \"string\", \"doc\": \"The string type.\"}, {\"name\": \"cy_000\", \"type\": \"string\", \"doc\": \"The string type.\"}, {\"name\": \"cz_000\", \"type\": \"string\", \"doc\": \"The string type.\"}, {\"name\": \"da_000\", \"type\": \"string\", \"doc\": \"The string type.\"}, {\"name\": \"db_000\", \"type\": \"string\", \"doc\": \"The string type.\"}, {\"name\": \"dc_000\", \"type\": \"string\", \"doc\": \"The string type.\"}, {\"name\": \"dd_000\", \"type\": \"string\", \"doc\": \"The string type.\"}, {\"name\": \"de_000\", \"type\": \"string\", \"doc\": \"The string type.\"}, {\"name\": \"df_000\", \"type\": \"string\", \"doc\": \"The string type.\"}, {\"name\": \"dg_000\", \"type\": \"string\", \"doc\": \"The string type.\"}, {\"name\": \"dh_000\", \"type\": \"string\", \"doc\": \"The string type.\"}, {\"name\": \"di_000\", \"type\": \"string\", \"doc\": \"The string type.\"}, {\"name\": \"dj_000\", \"type\": \"string\", \"doc\": \"The string type.\"}, {\"name\": \"dk_000\", \"type\": \"string\", \"doc\": \"The string type.\"}, {\"name\": \"dl_000\", \"type\": \"string\", \"doc\": \"The string type.\"}, {\"name\": \"dm_000\", \"type\": \"string\", \"doc\": \"The string type.\"}, {\"name\": \"dn_000\", \"type\": \"string\", \"doc\": \"The string type.\"}, {\"name\": \"do_000\", \"type\": \"string\", \"doc\": \"The string type.\"}, {\"name\": \"dp_000\", \"type\": \"string\", \"doc\": \"The string type.\"}, {\"name\": \"dq_000\", \"type\": \"string\", \"doc\": \"The string type.\"}, {\"name\": \"dr_000\", \"type\": \"string\", \"doc\": \"The string type.\"}, {\"name\": \"ds_000\", \"type\": \"string\", \"doc\": \"The string type.\"}, {\"name\": \"dt_000\", \"type\": \"string\", \"doc\": \"The string type.\"}, {\"name\": \"du_000\", \"type\": \"string\", \"doc\": \"The string type.\"}, {\"name\": \"dv_000\", \"type\": \"string\", \"doc\": \"The string type.\"}, {\"name\": \"dx_000\", \"type\": \"string\", \"doc\": \"The string type.\"}, {\"name\": \"dy_000\", \"type\": \"string\", \"doc\": \"The string type.\"}, {\"name\": \"dz_000\", \"type\": \"string\", \"doc\": \"The string type.\"}, {\"name\": \"ea_000\", \"type\": \"string\", \"doc\": \"The string type.\"}, {\"name\": \"eb_000\", \"type\": \"string\", \"doc\": \"The string type.\"}, {\"name\": \"ec_00\", \"type\": \"string\", \"doc\": \"The string type.\"}, {\"name\": \"ed_000\", \"type\": \"string\", \"doc\": \"The string type.\"}, {\"name\": \"ee_000\", \"type\": \"string\", \"doc\": \"The string type.\"}, {\"name\": \"ee_001\", \"type\": \"string\", \"doc\": \"The string type.\"}, {\"name\": \"ee_002\", \"type\": \"string\", \"doc\": \"The string type.\"}, {\"name\": \"ee_003\", \"type\": \"string\", \"doc\": \"The string type.\"}, {\"name\": \"ee_004\", \"type\": \"string\", \"doc\": \"The string type.\"}, {\"name\": \"ee_005\", \"type\": \"string\", \"doc\": \"The string type.\"}, {\"name\": \"ee_006\", \"type\": \"string\", \"doc\": \"The string type.\"}, {\"name\": \"ee_007\", \"type\": \"string\", \"doc\": \"The string type.\"}, {\"name\": \"ee_008\", \"type\": \"string\", \"doc\": \"The string type.\"}, {\"name\": \"ee_009\", \"type\": \"string\", \"doc\": \"The string type.\"}, {\"name\": \"ef_000\", \"type\": \"string\", \"doc\": \"The string type.\"}, {\"name\": \"eg_000\", \"type\": \"string\", \"doc\": \"The string type.\"}]}'"
      ]
     },
     "execution_count": 7,
     "metadata": {},
     "output_type": "execute_result"
    }
   ],
   "source": [
    "schema = Generic.export_schema_to_create_confluent_schema(file_path=r'sample_data/kafka-sensor-topic/aps_failure_training_set1.csv')\n",
    "schema"
   ]
  },
  {
   "cell_type": "code",
   "execution_count": 44,
   "metadata": {},
   "outputs": [],
   "source": [
    "# chunk_df = pd.read_csv(r'titanic.csv', chunksize=10)\n",
    "\n",
    "# for df in chunk_df:\n",
    "#     for data in df.values:\n",
    "#         generic = Generic(dict(zip(df.columns, data)))\n",
    "#         print(generic.to_dict())\n",
    "#         print('===================================================================================\\n')"
   ]
  },
  {
   "cell_type": "code",
   "execution_count": 33,
   "metadata": {},
   "outputs": [
    {
     "data": {
      "text/plain": [
       "generator"
      ]
     },
     "execution_count": 33,
     "metadata": {},
     "output_type": "execute_result"
    }
   ],
   "source": [
    "def generate_data():\n",
    "    chunk_df = pd.read_csv(r'titanic.csv', chunksize=10)\n",
    "\n",
    "    for df in chunk_df:\n",
    "        for data in df.values:\n",
    "            generic = Generic(dict(zip(df.columns, data)))\n",
    "            yield generic\n",
    "\n",
    "gen = generate_data()\n",
    "type(gen)"
   ]
  },
  {
   "cell_type": "code",
   "execution_count": 47,
   "metadata": {},
   "outputs": [
    {
     "data": {
      "text/plain": [
       "Index(['PassengerId', 'Survived', 'Pclass', 'Name', 'Sex', 'Age', 'SibSp',\n",
       "       'Parch', 'Ticket', 'Fare', 'Cabin', 'Embarked'],\n",
       "      dtype='object')"
      ]
     },
     "execution_count": 47,
     "metadata": {},
     "output_type": "execute_result"
    }
   ],
   "source": [
    "columns = next(pd.read_csv(f'titanic.csv', chunksize=10)).columns\n",
    "columns"
   ]
  },
  {
   "cell_type": "code",
   "execution_count": 43,
   "metadata": {},
   "outputs": [
    {
     "data": {
      "text/plain": [
       "{'PassengerId': 9,\n",
       " 'Survived': 1,\n",
       " 'Pclass': 3,\n",
       " 'Name': 'Johnson, Mrs. Oscar W (Elisabeth Vilhelmina Berg)',\n",
       " 'Sex': 'female',\n",
       " 'Age': 27.0,\n",
       " 'SibSp': 0,\n",
       " 'Parch': 2,\n",
       " 'Ticket': '347742',\n",
       " 'Fare': 11.1333,\n",
       " 'Cabin': nan,\n",
       " 'Embarked': 'S'}"
      ]
     },
     "execution_count": 43,
     "metadata": {},
     "output_type": "execute_result"
    }
   ],
   "source": [
    "next(gen).to_dict()"
   ]
  },
  {
   "cell_type": "code",
   "execution_count": 22,
   "metadata": {},
   "outputs": [],
   "source": [
    "# i = 0\n",
    "# for df in chunk_df:\n",
    "#     print(i, '========================================')\n",
    "#     print(df)\n",
    "#     i += 1"
   ]
  },
  {
   "cell_type": "code",
   "execution_count": 50,
   "metadata": {},
   "outputs": [
    {
     "data": {
      "text/plain": [
       "1000"
      ]
     },
     "execution_count": 50,
     "metadata": {},
     "output_type": "execute_result"
    }
   ],
   "source": [
    "record1 = {\"name\": \"Bapan Bairagya\", \"city\": \"Bangalore\", \"salary\": 1000}\n",
    "generic = Generic(record1)\n",
    "\n",
    "generic.salary"
   ]
  },
  {
   "cell_type": "code",
   "execution_count": 55,
   "metadata": {},
   "outputs": [
    {
     "name": "stdout",
     "output_type": "stream",
     "text": [
      "<__main__.Generic object at 0x00000233F2BABCD0>\n"
     ]
    }
   ],
   "source": [
    "print(generic)"
   ]
  },
  {
   "cell_type": "code",
   "execution_count": 3,
   "metadata": {},
   "outputs": [
    {
     "data": {
      "text/plain": [
       "{'name': 'Bapan Bairagya', 'city': 'Bangalore', 'salary': 1000}"
      ]
     },
     "execution_count": 3,
     "metadata": {},
     "output_type": "execute_result"
    }
   ],
   "source": [
    "generic.to_dict()"
   ]
  },
  {
   "cell_type": "code",
   "execution_count": 4,
   "metadata": {},
   "outputs": [
    {
     "ename": "AttributeError",
     "evalue": "'Generic' object has no attribute 'age'",
     "output_type": "error",
     "traceback": [
      "\u001b[1;31m---------------------------------------------------------------------------\u001b[0m",
      "\u001b[1;31mAttributeError\u001b[0m                            Traceback (most recent call last)",
      "Cell \u001b[1;32mIn[4], line 1\u001b[0m\n\u001b[1;32m----> 1\u001b[0m \u001b[43mgeneric\u001b[49m\u001b[38;5;241;43m.\u001b[39;49m\u001b[43mage\u001b[49m\n",
      "\u001b[1;31mAttributeError\u001b[0m: 'Generic' object has no attribute 'age'"
     ]
    }
   ],
   "source": [
    "generic.age"
   ]
  },
  {
   "cell_type": "code",
   "execution_count": 5,
   "metadata": {},
   "outputs": [
    {
     "data": {
      "text/plain": [
       "'Purnima'"
      ]
     },
     "execution_count": 5,
     "metadata": {},
     "output_type": "execute_result"
    }
   ],
   "source": [
    "record2 = {\"name\": \"Purnima\", \"age\": 50, \"city\": \"Bangalore\", \"hobbies\": \"Cooking\"}\n",
    "generic1 = Generic(record2)\n",
    "\n",
    "generic1.name"
   ]
  },
  {
   "cell_type": "code",
   "execution_count": 6,
   "metadata": {},
   "outputs": [
    {
     "data": {
      "text/plain": [
       "{'name': 'Purnima', 'age': 50, 'city': 'Bangalore', 'hobbies': 'Cooking'}"
      ]
     },
     "execution_count": 6,
     "metadata": {},
     "output_type": "execute_result"
    }
   ],
   "source": [
    "generic1.to_dict()"
   ]
  },
  {
   "cell_type": "code",
   "execution_count": null,
   "metadata": {},
   "outputs": [],
   "source": []
  },
  {
   "cell_type": "code",
   "execution_count": 4,
   "metadata": {},
   "outputs": [
    {
     "name": "stdout",
     "output_type": "stream",
     "text": [
      "sample_data\n",
      "topics: [['kafka-sensor-topic']]\n",
      "sample_data\\kafka-sensor-topic\n",
      "sample_data\\kafka-sensor-topic\\aps_failure_training_set1.csv\n"
     ]
    }
   ],
   "source": [
    "import os\n",
    "\n",
    "SAMPLE_DIR = os.path.join(\"sample_data\")\n",
    "print(SAMPLE_DIR)\n",
    "\n",
    "topics = os.listdir(SAMPLE_DIR)\n",
    "print(f'topics: [{topics}]')\n",
    "\n",
    "for topic in topics:\n",
    "    sample_topic_data_dir = os.path.join(SAMPLE_DIR, topic)\n",
    "    print(sample_topic_data_dir)\n",
    "    \n",
    "    sample_file_path = os.path.join(sample_topic_data_dir, os.listdir(sample_topic_data_dir)[0])\n",
    "    print(sample_file_path)"
   ]
  },
  {
   "cell_type": "code",
   "execution_count": 5,
   "metadata": {},
   "outputs": [],
   "source": [
    "sensor_df = next(pd.read_csv(r'sample_data/kafka-sensor-topic/aps_failure_training_set1.csv', chunksize=10))\n",
    "\n",
    "#sensor_df.to_csv('sensor_for_avro_schema.csv', index=False)"
   ]
  },
  {
   "cell_type": "code",
   "execution_count": 6,
   "metadata": {},
   "outputs": [
    {
     "data": {
      "text/plain": [
       "class     object\n",
       "aa_000     int64\n",
       "ab_000    object\n",
       "ac_000    object\n",
       "ad_000    object\n",
       "           ...  \n",
       "ee_007    object\n",
       "ee_008    object\n",
       "ee_009    object\n",
       "ef_000    object\n",
       "eg_000    object\n",
       "Length: 171, dtype: object"
      ]
     },
     "execution_count": 6,
     "metadata": {},
     "output_type": "execute_result"
    }
   ],
   "source": [
    "sensor_df.dtypes"
   ]
  },
  {
   "cell_type": "code",
   "execution_count": 7,
   "metadata": {},
   "outputs": [
    {
     "data": {
      "text/html": [
       "<div>\n",
       "<style scoped>\n",
       "    .dataframe tbody tr th:only-of-type {\n",
       "        vertical-align: middle;\n",
       "    }\n",
       "\n",
       "    .dataframe tbody tr th {\n",
       "        vertical-align: top;\n",
       "    }\n",
       "\n",
       "    .dataframe thead th {\n",
       "        text-align: right;\n",
       "    }\n",
       "</style>\n",
       "<table border=\"1\" class=\"dataframe\">\n",
       "  <thead>\n",
       "    <tr style=\"text-align: right;\">\n",
       "      <th></th>\n",
       "      <th>class</th>\n",
       "      <th>aa_000</th>\n",
       "      <th>ab_000</th>\n",
       "      <th>ac_000</th>\n",
       "      <th>ad_000</th>\n",
       "      <th>ae_000</th>\n",
       "      <th>af_000</th>\n",
       "      <th>ag_000</th>\n",
       "      <th>ag_001</th>\n",
       "      <th>ag_002</th>\n",
       "      <th>...</th>\n",
       "      <th>ee_002</th>\n",
       "      <th>ee_003</th>\n",
       "      <th>ee_004</th>\n",
       "      <th>ee_005</th>\n",
       "      <th>ee_006</th>\n",
       "      <th>ee_007</th>\n",
       "      <th>ee_008</th>\n",
       "      <th>ee_009</th>\n",
       "      <th>ef_000</th>\n",
       "      <th>eg_000</th>\n",
       "    </tr>\n",
       "  </thead>\n",
       "  <tbody>\n",
       "    <tr>\n",
       "      <th>0</th>\n",
       "      <td>pos</td>\n",
       "      <td>153204</td>\n",
       "      <td>0</td>\n",
       "      <td>182</td>\n",
       "      <td>na</td>\n",
       "      <td>0</td>\n",
       "      <td>0</td>\n",
       "      <td>0</td>\n",
       "      <td>0</td>\n",
       "      <td>0</td>\n",
       "      <td>...</td>\n",
       "      <td>129862</td>\n",
       "      <td>26872</td>\n",
       "      <td>34044</td>\n",
       "      <td>22472</td>\n",
       "      <td>34362</td>\n",
       "      <td>0</td>\n",
       "      <td>0</td>\n",
       "      <td>0</td>\n",
       "      <td>0</td>\n",
       "      <td>0</td>\n",
       "    </tr>\n",
       "    <tr>\n",
       "      <th>1</th>\n",
       "      <td>pos</td>\n",
       "      <td>453236</td>\n",
       "      <td>na</td>\n",
       "      <td>2926</td>\n",
       "      <td>na</td>\n",
       "      <td>0</td>\n",
       "      <td>0</td>\n",
       "      <td>0</td>\n",
       "      <td>0</td>\n",
       "      <td>222</td>\n",
       "      <td>...</td>\n",
       "      <td>7908038</td>\n",
       "      <td>3026002</td>\n",
       "      <td>5025350</td>\n",
       "      <td>2025766</td>\n",
       "      <td>1160638</td>\n",
       "      <td>533834</td>\n",
       "      <td>493800</td>\n",
       "      <td>6914</td>\n",
       "      <td>0</td>\n",
       "      <td>0</td>\n",
       "    </tr>\n",
       "    <tr>\n",
       "      <th>2</th>\n",
       "      <td>pos</td>\n",
       "      <td>72504</td>\n",
       "      <td>na</td>\n",
       "      <td>1594</td>\n",
       "      <td>1052</td>\n",
       "      <td>0</td>\n",
       "      <td>0</td>\n",
       "      <td>0</td>\n",
       "      <td>244</td>\n",
       "      <td>178226</td>\n",
       "      <td>...</td>\n",
       "      <td>1432098</td>\n",
       "      <td>372252</td>\n",
       "      <td>527514</td>\n",
       "      <td>358274</td>\n",
       "      <td>332818</td>\n",
       "      <td>284178</td>\n",
       "      <td>3742</td>\n",
       "      <td>0</td>\n",
       "      <td>0</td>\n",
       "      <td>0</td>\n",
       "    </tr>\n",
       "  </tbody>\n",
       "</table>\n",
       "<p>3 rows × 171 columns</p>\n",
       "</div>"
      ],
      "text/plain": [
       "  class  aa_000 ab_000 ac_000 ad_000 ae_000 af_000 ag_000 ag_001  ag_002  ...  \\\n",
       "0   pos  153204      0    182     na      0      0      0      0       0  ...   \n",
       "1   pos  453236     na   2926     na      0      0      0      0     222  ...   \n",
       "2   pos   72504     na   1594   1052      0      0      0    244  178226  ...   \n",
       "\n",
       "    ee_002   ee_003   ee_004   ee_005   ee_006  ee_007  ee_008 ee_009 ef_000  \\\n",
       "0   129862    26872    34044    22472    34362       0       0      0      0   \n",
       "1  7908038  3026002  5025350  2025766  1160638  533834  493800   6914      0   \n",
       "2  1432098   372252   527514   358274   332818  284178    3742      0      0   \n",
       "\n",
       "  eg_000  \n",
       "0      0  \n",
       "1      0  \n",
       "2      0  \n",
       "\n",
       "[3 rows x 171 columns]"
      ]
     },
     "execution_count": 7,
     "metadata": {},
     "output_type": "execute_result"
    }
   ],
   "source": [
    "df = pd.read_csv('sample_data/car_sensor/aps_failure_training_set1.csv')\n",
    "df.head(3)"
   ]
  },
  {
   "cell_type": "code",
   "execution_count": 9,
   "metadata": {},
   "outputs": [
    {
     "data": {
      "text/plain": [
       "(36188, 171)"
      ]
     },
     "execution_count": 9,
     "metadata": {},
     "output_type": "execute_result"
    }
   ],
   "source": [
    "df.shape\n"
   ]
  },
  {
   "cell_type": "code",
   "execution_count": 9,
   "metadata": {},
   "outputs": [
    {
     "data": {
      "text/plain": [
       "class     0\n",
       "aa_000    0\n",
       "ab_000    0\n",
       "ac_000    0\n",
       "ad_000    0\n",
       "         ..\n",
       "ee_007    0\n",
       "ee_008    0\n",
       "ee_009    0\n",
       "ef_000    0\n",
       "eg_000    0\n",
       "Length: 171, dtype: int64"
      ]
     },
     "execution_count": 9,
     "metadata": {},
     "output_type": "execute_result"
    }
   ],
   "source": [
    "df.isnull().sum()"
   ]
  },
  {
   "cell_type": "code",
   "execution_count": 10,
   "metadata": {},
   "outputs": [
    {
     "data": {
      "text/html": [
       "<div>\n",
       "<style scoped>\n",
       "    .dataframe tbody tr th:only-of-type {\n",
       "        vertical-align: middle;\n",
       "    }\n",
       "\n",
       "    .dataframe tbody tr th {\n",
       "        vertical-align: top;\n",
       "    }\n",
       "\n",
       "    .dataframe thead th {\n",
       "        text-align: right;\n",
       "    }\n",
       "</style>\n",
       "<table border=\"1\" class=\"dataframe\">\n",
       "  <thead>\n",
       "    <tr style=\"text-align: right;\">\n",
       "      <th></th>\n",
       "      <th>class</th>\n",
       "      <th>aa_000</th>\n",
       "      <th>ab_000</th>\n",
       "      <th>ac_000</th>\n",
       "      <th>ad_000</th>\n",
       "      <th>ae_000</th>\n",
       "      <th>af_000</th>\n",
       "      <th>ag_000</th>\n",
       "      <th>ag_001</th>\n",
       "      <th>ag_002</th>\n",
       "      <th>...</th>\n",
       "      <th>ee_002</th>\n",
       "      <th>ee_003</th>\n",
       "      <th>ee_004</th>\n",
       "      <th>ee_005</th>\n",
       "      <th>ee_006</th>\n",
       "      <th>ee_007</th>\n",
       "      <th>ee_008</th>\n",
       "      <th>ee_009</th>\n",
       "      <th>ef_000</th>\n",
       "      <th>eg_000</th>\n",
       "    </tr>\n",
       "  </thead>\n",
       "  <tbody>\n",
       "    <tr>\n",
       "      <th>1</th>\n",
       "      <td>pos</td>\n",
       "      <td>453236</td>\n",
       "      <td>na</td>\n",
       "      <td>2926</td>\n",
       "      <td>na</td>\n",
       "      <td>0</td>\n",
       "      <td>0</td>\n",
       "      <td>0</td>\n",
       "      <td>0</td>\n",
       "      <td>222</td>\n",
       "      <td>...</td>\n",
       "      <td>7908038</td>\n",
       "      <td>3026002</td>\n",
       "      <td>5025350</td>\n",
       "      <td>2025766</td>\n",
       "      <td>1160638</td>\n",
       "      <td>533834</td>\n",
       "      <td>493800</td>\n",
       "      <td>6914</td>\n",
       "      <td>0</td>\n",
       "      <td>0</td>\n",
       "    </tr>\n",
       "    <tr>\n",
       "      <th>2</th>\n",
       "      <td>pos</td>\n",
       "      <td>72504</td>\n",
       "      <td>na</td>\n",
       "      <td>1594</td>\n",
       "      <td>1052</td>\n",
       "      <td>0</td>\n",
       "      <td>0</td>\n",
       "      <td>0</td>\n",
       "      <td>244</td>\n",
       "      <td>178226</td>\n",
       "      <td>...</td>\n",
       "      <td>1432098</td>\n",
       "      <td>372252</td>\n",
       "      <td>527514</td>\n",
       "      <td>358274</td>\n",
       "      <td>332818</td>\n",
       "      <td>284178</td>\n",
       "      <td>3742</td>\n",
       "      <td>0</td>\n",
       "      <td>0</td>\n",
       "      <td>0</td>\n",
       "    </tr>\n",
       "    <tr>\n",
       "      <th>3</th>\n",
       "      <td>pos</td>\n",
       "      <td>762958</td>\n",
       "      <td>na</td>\n",
       "      <td>na</td>\n",
       "      <td>na</td>\n",
       "      <td>na</td>\n",
       "      <td>na</td>\n",
       "      <td>776</td>\n",
       "      <td>281128</td>\n",
       "      <td>2186308</td>\n",
       "      <td>...</td>\n",
       "      <td>na</td>\n",
       "      <td>na</td>\n",
       "      <td>na</td>\n",
       "      <td>na</td>\n",
       "      <td>na</td>\n",
       "      <td>na</td>\n",
       "      <td>na</td>\n",
       "      <td>na</td>\n",
       "      <td>na</td>\n",
       "      <td>na</td>\n",
       "    </tr>\n",
       "    <tr>\n",
       "      <th>4</th>\n",
       "      <td>pos</td>\n",
       "      <td>695994</td>\n",
       "      <td>na</td>\n",
       "      <td>na</td>\n",
       "      <td>na</td>\n",
       "      <td>na</td>\n",
       "      <td>na</td>\n",
       "      <td>0</td>\n",
       "      <td>0</td>\n",
       "      <td>0</td>\n",
       "      <td>...</td>\n",
       "      <td>1397742</td>\n",
       "      <td>495544</td>\n",
       "      <td>361646</td>\n",
       "      <td>28610</td>\n",
       "      <td>5130</td>\n",
       "      <td>212</td>\n",
       "      <td>0</td>\n",
       "      <td>0</td>\n",
       "      <td>na</td>\n",
       "      <td>na</td>\n",
       "    </tr>\n",
       "    <tr>\n",
       "      <th>7</th>\n",
       "      <td>pos</td>\n",
       "      <td>791254</td>\n",
       "      <td>na</td>\n",
       "      <td>na</td>\n",
       "      <td>na</td>\n",
       "      <td>na</td>\n",
       "      <td>na</td>\n",
       "      <td>0</td>\n",
       "      <td>14868</td>\n",
       "      <td>921256</td>\n",
       "      <td>...</td>\n",
       "      <td>3625532</td>\n",
       "      <td>1380864</td>\n",
       "      <td>3262488</td>\n",
       "      <td>5727988</td>\n",
       "      <td>7563752</td>\n",
       "      <td>12114820</td>\n",
       "      <td>264714</td>\n",
       "      <td>198</td>\n",
       "      <td>na</td>\n",
       "      <td>na</td>\n",
       "    </tr>\n",
       "    <tr>\n",
       "      <th>...</th>\n",
       "      <td>...</td>\n",
       "      <td>...</td>\n",
       "      <td>...</td>\n",
       "      <td>...</td>\n",
       "      <td>...</td>\n",
       "      <td>...</td>\n",
       "      <td>...</td>\n",
       "      <td>...</td>\n",
       "      <td>...</td>\n",
       "      <td>...</td>\n",
       "      <td>...</td>\n",
       "      <td>...</td>\n",
       "      <td>...</td>\n",
       "      <td>...</td>\n",
       "      <td>...</td>\n",
       "      <td>...</td>\n",
       "      <td>...</td>\n",
       "      <td>...</td>\n",
       "      <td>...</td>\n",
       "      <td>...</td>\n",
       "      <td>...</td>\n",
       "    </tr>\n",
       "    <tr>\n",
       "      <th>36179</th>\n",
       "      <td>neg</td>\n",
       "      <td>39308</td>\n",
       "      <td>na</td>\n",
       "      <td>452</td>\n",
       "      <td>374</td>\n",
       "      <td>0</td>\n",
       "      <td>0</td>\n",
       "      <td>0</td>\n",
       "      <td>0</td>\n",
       "      <td>0</td>\n",
       "      <td>...</td>\n",
       "      <td>312426</td>\n",
       "      <td>161694</td>\n",
       "      <td>323438</td>\n",
       "      <td>292350</td>\n",
       "      <td>250112</td>\n",
       "      <td>157636</td>\n",
       "      <td>234932</td>\n",
       "      <td>9506</td>\n",
       "      <td>0</td>\n",
       "      <td>0</td>\n",
       "    </tr>\n",
       "    <tr>\n",
       "      <th>36183</th>\n",
       "      <td>neg</td>\n",
       "      <td>153002</td>\n",
       "      <td>na</td>\n",
       "      <td>664</td>\n",
       "      <td>186</td>\n",
       "      <td>0</td>\n",
       "      <td>0</td>\n",
       "      <td>0</td>\n",
       "      <td>0</td>\n",
       "      <td>0</td>\n",
       "      <td>...</td>\n",
       "      <td>998500</td>\n",
       "      <td>566884</td>\n",
       "      <td>1290398</td>\n",
       "      <td>1218244</td>\n",
       "      <td>1019768</td>\n",
       "      <td>717762</td>\n",
       "      <td>898642</td>\n",
       "      <td>28588</td>\n",
       "      <td>0</td>\n",
       "      <td>0</td>\n",
       "    </tr>\n",
       "    <tr>\n",
       "      <th>36184</th>\n",
       "      <td>neg</td>\n",
       "      <td>2286</td>\n",
       "      <td>na</td>\n",
       "      <td>2130706538</td>\n",
       "      <td>224</td>\n",
       "      <td>0</td>\n",
       "      <td>0</td>\n",
       "      <td>0</td>\n",
       "      <td>0</td>\n",
       "      <td>0</td>\n",
       "      <td>...</td>\n",
       "      <td>10578</td>\n",
       "      <td>6760</td>\n",
       "      <td>21126</td>\n",
       "      <td>68424</td>\n",
       "      <td>136</td>\n",
       "      <td>0</td>\n",
       "      <td>0</td>\n",
       "      <td>0</td>\n",
       "      <td>0</td>\n",
       "      <td>0</td>\n",
       "    </tr>\n",
       "    <tr>\n",
       "      <th>36186</th>\n",
       "      <td>neg</td>\n",
       "      <td>80292</td>\n",
       "      <td>na</td>\n",
       "      <td>2130706432</td>\n",
       "      <td>494</td>\n",
       "      <td>0</td>\n",
       "      <td>0</td>\n",
       "      <td>0</td>\n",
       "      <td>0</td>\n",
       "      <td>0</td>\n",
       "      <td>...</td>\n",
       "      <td>699352</td>\n",
       "      <td>222654</td>\n",
       "      <td>347378</td>\n",
       "      <td>225724</td>\n",
       "      <td>194440</td>\n",
       "      <td>165070</td>\n",
       "      <td>802280</td>\n",
       "      <td>388422</td>\n",
       "      <td>0</td>\n",
       "      <td>0</td>\n",
       "    </tr>\n",
       "    <tr>\n",
       "      <th>36187</th>\n",
       "      <td>neg</td>\n",
       "      <td>40222</td>\n",
       "      <td>na</td>\n",
       "      <td>698</td>\n",
       "      <td>628</td>\n",
       "      <td>0</td>\n",
       "      <td>0</td>\n",
       "      <td>0</td>\n",
       "      <td>0</td>\n",
       "      <td>0</td>\n",
       "      <td>...</td>\n",
       "      <td>440066</td>\n",
       "      <td>183200</td>\n",
       "      <td>344546</td>\n",
       "      <td>254068</td>\n",
       "      <td>225148</td>\n",
       "      <td>158304</td>\n",
       "      <td>170384</td>\n",
       "      <td>158</td>\n",
       "      <td>0</td>\n",
       "      <td>0</td>\n",
       "    </tr>\n",
       "  </tbody>\n",
       "</table>\n",
       "<p>27896 rows × 171 columns</p>\n",
       "</div>"
      ],
      "text/plain": [
       "      class  aa_000 ab_000      ac_000 ad_000 ae_000 af_000 ag_000  ag_001  \\\n",
       "1       pos  453236     na        2926     na      0      0      0       0   \n",
       "2       pos   72504     na        1594   1052      0      0      0     244   \n",
       "3       pos  762958     na          na     na     na     na    776  281128   \n",
       "4       pos  695994     na          na     na     na     na      0       0   \n",
       "7       pos  791254     na          na     na     na     na      0   14868   \n",
       "...     ...     ...    ...         ...    ...    ...    ...    ...     ...   \n",
       "36179   neg   39308     na         452    374      0      0      0       0   \n",
       "36183   neg  153002     na         664    186      0      0      0       0   \n",
       "36184   neg    2286     na  2130706538    224      0      0      0       0   \n",
       "36186   neg   80292     na  2130706432    494      0      0      0       0   \n",
       "36187   neg   40222     na         698    628      0      0      0       0   \n",
       "\n",
       "        ag_002  ...   ee_002   ee_003   ee_004   ee_005   ee_006    ee_007  \\\n",
       "1          222  ...  7908038  3026002  5025350  2025766  1160638    533834   \n",
       "2       178226  ...  1432098   372252   527514   358274   332818    284178   \n",
       "3      2186308  ...       na       na       na       na       na        na   \n",
       "4            0  ...  1397742   495544   361646    28610     5130       212   \n",
       "7       921256  ...  3625532  1380864  3262488  5727988  7563752  12114820   \n",
       "...        ...  ...      ...      ...      ...      ...      ...       ...   \n",
       "36179        0  ...   312426   161694   323438   292350   250112    157636   \n",
       "36183        0  ...   998500   566884  1290398  1218244  1019768    717762   \n",
       "36184        0  ...    10578     6760    21126    68424      136         0   \n",
       "36186        0  ...   699352   222654   347378   225724   194440    165070   \n",
       "36187        0  ...   440066   183200   344546   254068   225148    158304   \n",
       "\n",
       "       ee_008  ee_009 ef_000 eg_000  \n",
       "1      493800    6914      0      0  \n",
       "2        3742       0      0      0  \n",
       "3          na      na     na     na  \n",
       "4           0       0     na     na  \n",
       "7      264714     198     na     na  \n",
       "...       ...     ...    ...    ...  \n",
       "36179  234932    9506      0      0  \n",
       "36183  898642   28588      0      0  \n",
       "36184       0       0      0      0  \n",
       "36186  802280  388422      0      0  \n",
       "36187  170384     158      0      0  \n",
       "\n",
       "[27896 rows x 171 columns]"
      ]
     },
     "execution_count": 10,
     "metadata": {},
     "output_type": "execute_result"
    }
   ],
   "source": [
    "df[df['ab_000'] == 'na']"
   ]
  },
  {
   "cell_type": "code",
   "execution_count": 8,
   "metadata": {},
   "outputs": [
    {
     "data": {
      "text/plain": [
       "Index(['class', 'aa_000', 'ab_000', 'ac_000', 'ad_000', 'ae_000', 'af_000',\n",
       "       'ag_000', 'ag_001', 'ag_002',\n",
       "       ...\n",
       "       'ee_002', 'ee_003', 'ee_004', 'ee_005', 'ee_006', 'ee_007', 'ee_008',\n",
       "       'ee_009', 'ef_000', 'eg_000'],\n",
       "      dtype='object', length=171)"
      ]
     },
     "execution_count": 8,
     "metadata": {},
     "output_type": "execute_result"
    }
   ],
   "source": [
    "sensor_df.columns"
   ]
  },
  {
   "cell_type": "code",
   "execution_count": null,
   "metadata": {},
   "outputs": [],
   "source": []
  },
  {
   "cell_type": "code",
   "execution_count": 3,
   "metadata": {},
   "outputs": [],
   "source": [
    "import json\n",
    "import pandas as pd # type: ignore\n",
    "\n",
    "\n",
    "class SensorData:\n",
    "    \n",
    "    def __init__(self, record: dict) -> None:\n",
    "        for k, v in record.items():\n",
    "            setattr(self, k, v)\n",
    "    \n",
    "    @staticmethod\n",
    "    def dict_to_object(data: dict):\n",
    "        return SensorData(data)\n",
    "    \n",
    "    def to_dict(self):\n",
    "        return self.__dict__\n",
    "    \n",
    "    @classmethod\n",
    "    def get_object(cls, file_path):\n",
    "        chunk_df = pd.read_csv(file_path, chunksize=10)\n",
    "        \n",
    "        for df in chunk_df:\n",
    "            for data in df.values:\n",
    "                generic = SensorData(dict(zip(df.columns, data)))\n",
    "                yield generic\n",
    "    \n",
    "    @classmethod\n",
    "    def generate_avro_schema(cls, file_path, record_name=\"SensorRecord\", namespace=\"com.mycorp.mynamespace\"):\n",
    "        df = next(pd.read_csv(file_path, chunksize=10))\n",
    "        \n",
    "        # Start building the schema\n",
    "        schema = {\n",
    "            \"type\": \"record\",\n",
    "            \"namespace\": namespace,\n",
    "            \"name\": record_name,\n",
    "            \"fields\": []\n",
    "        }\n",
    "\n",
    "        # Infer the schema for each column\n",
    "        for column in df.columns:\n",
    "            field_type = [\"null\", \"string\"]  # Default to string type, considering \"na\" and other non-numeric values\n",
    "            field_schema = {\n",
    "                \"name\": column,\n",
    "                \"type\": field_type,\n",
    "                \"default\": None\n",
    "            }\n",
    "            schema[\"fields\"].append(field_schema)\n",
    "        \n",
    "            # Save the schema to a .avsc file\n",
    "        schema_file_path = file_path.replace('.csv', '.avsc')\n",
    "        with open(schema_file_path, 'w') as schema_file:\n",
    "            json.dump(schema, schema_file, indent=2)\n",
    "\n",
    "        print(f\"Avro schema saved to {schema_file_path}\")\n",
    "        \n",
    "        return schema"
   ]
  },
  {
   "cell_type": "code",
   "execution_count": 4,
   "metadata": {},
   "outputs": [
    {
     "name": "stdout",
     "output_type": "stream",
     "text": [
      "Avro schema saved to sample_data/kafka-sensor-topic/aps_failure_training_set1.avsc\n"
     ]
    }
   ],
   "source": [
    "avro_schema = SensorData.generate_avro_schema('sample_data/kafka-sensor-topic/aps_failure_training_set1.csv')"
   ]
  },
  {
   "cell_type": "code",
   "execution_count": 6,
   "metadata": {},
   "outputs": [],
   "source": [
    "# avro_schema"
   ]
  },
  {
   "cell_type": "code",
   "execution_count": 11,
   "metadata": {},
   "outputs": [],
   "source": [
    "import json\n",
    "import pandas as pd\n",
    "\n",
    "\n",
    "class SensorData:\n",
    "    \n",
    "    def __init__(self, record: dict) -> None:\n",
    "        for k, v in record.items():\n",
    "            setattr(self, k, v)\n",
    "    \n",
    "    @staticmethod\n",
    "    def dict_to_object(data: dict):\n",
    "        return SensorData(data)\n",
    "    \n",
    "    def to_dict(self):\n",
    "        return self.__dict__\n",
    "    \n",
    "    def clean_data(self):\n",
    "        \"\"\"\n",
    "        Cleans the data by replacing None or empty string values with a default value.\n",
    "        \"\"\"\n",
    "        cleaned_data = {}\n",
    "        for key, value in self.to_dict().items():\n",
    "            if value is None or value == 'na':\n",
    "                cleaned_data[key] = None  # Replace with an empty string or a default value (None)\n",
    "            else:\n",
    "                cleaned_data[key] = value\n",
    "        return cleaned_data\n",
    "    \n",
    "    @classmethod\n",
    "    def get_object(cls, file_path):\n",
    "        chunk_df = pd.read_csv(file_path, chunksize=10, encoding='utf-8')\n",
    "        \n",
    "        for df in chunk_df:\n",
    "            for data in df.values:\n",
    "                # Convert to strings and handle 'na' as None\n",
    "                cleaned_data = {}\n",
    "                for k, v in zip(df.columns, data):\n",
    "                    cleaned_data[k] = 'null' if v == 'na' else str(v)\n",
    "                \n",
    "                generic = SensorData(cleaned_data)\n",
    "                yield generic.to_dict()\n",
    "    \n",
    "    @classmethod\n",
    "    def generate_avro_schema(cls, file_path, record_name=\"SensorRecord\", namespace=\"com.mycorp.mynamespace\"):\n",
    "        df = next(pd.read_csv(file_path, chunksize=10))\n",
    "        \n",
    "        # Start building the schema\n",
    "        schema = {\n",
    "            \"type\": \"record\",\n",
    "            \"namespace\": namespace,\n",
    "            \"name\": record_name,\n",
    "            \"fields\": []\n",
    "        }\n",
    "\n",
    "        # Infer the schema for each column\n",
    "        for column in df.columns:\n",
    "            field_type = [\"null\", \"string\"]  # Default to string type, considering \"na\" and other non-numeric values\n",
    "            field_schema = {\n",
    "                \"name\": column,\n",
    "                \"type\": field_type,\n",
    "                \"default\": None\n",
    "            }\n",
    "            schema[\"fields\"].append(field_schema)\n",
    "        \n",
    "            # Save the schema to a .avsc file\n",
    "        schema_file_path = file_path.replace('.csv', '.avsc')\n",
    "        with open(schema_file_path, 'w') as schema_file:\n",
    "            json.dump(schema, schema_file, indent=2)\n",
    "\n",
    "        print(f\"Avro schema saved to {schema_file_path}\")\n",
    "        \n",
    "        return schema"
   ]
  },
  {
   "cell_type": "code",
   "execution_count": 12,
   "metadata": {},
   "outputs": [
    {
     "data": {
      "text/html": [
       "<div>\n",
       "<style scoped>\n",
       "    .dataframe tbody tr th:only-of-type {\n",
       "        vertical-align: middle;\n",
       "    }\n",
       "\n",
       "    .dataframe tbody tr th {\n",
       "        vertical-align: top;\n",
       "    }\n",
       "\n",
       "    .dataframe thead th {\n",
       "        text-align: right;\n",
       "    }\n",
       "</style>\n",
       "<table border=\"1\" class=\"dataframe\">\n",
       "  <thead>\n",
       "    <tr style=\"text-align: right;\">\n",
       "      <th></th>\n",
       "      <th>class</th>\n",
       "      <th>aa_000</th>\n",
       "      <th>ab_000</th>\n",
       "      <th>ac_000</th>\n",
       "      <th>ad_000</th>\n",
       "      <th>ae_000</th>\n",
       "      <th>af_000</th>\n",
       "      <th>ag_000</th>\n",
       "      <th>ag_001</th>\n",
       "      <th>ag_002</th>\n",
       "      <th>...</th>\n",
       "      <th>ee_002</th>\n",
       "      <th>ee_003</th>\n",
       "      <th>ee_004</th>\n",
       "      <th>ee_005</th>\n",
       "      <th>ee_006</th>\n",
       "      <th>ee_007</th>\n",
       "      <th>ee_008</th>\n",
       "      <th>ee_009</th>\n",
       "      <th>ef_000</th>\n",
       "      <th>eg_000</th>\n",
       "    </tr>\n",
       "  </thead>\n",
       "  <tbody>\n",
       "    <tr>\n",
       "      <th>0</th>\n",
       "      <td>pos</td>\n",
       "      <td>153204</td>\n",
       "      <td>0</td>\n",
       "      <td>182</td>\n",
       "      <td>na</td>\n",
       "      <td>0</td>\n",
       "      <td>0</td>\n",
       "      <td>0</td>\n",
       "      <td>0</td>\n",
       "      <td>0</td>\n",
       "      <td>...</td>\n",
       "      <td>129862</td>\n",
       "      <td>26872</td>\n",
       "      <td>34044</td>\n",
       "      <td>22472</td>\n",
       "      <td>34362</td>\n",
       "      <td>0</td>\n",
       "      <td>0</td>\n",
       "      <td>0</td>\n",
       "      <td>0</td>\n",
       "      <td>0</td>\n",
       "    </tr>\n",
       "    <tr>\n",
       "      <th>1</th>\n",
       "      <td>pos</td>\n",
       "      <td>453236</td>\n",
       "      <td>na</td>\n",
       "      <td>2926</td>\n",
       "      <td>na</td>\n",
       "      <td>0</td>\n",
       "      <td>0</td>\n",
       "      <td>0</td>\n",
       "      <td>0</td>\n",
       "      <td>222</td>\n",
       "      <td>...</td>\n",
       "      <td>7908038</td>\n",
       "      <td>3026002</td>\n",
       "      <td>5025350</td>\n",
       "      <td>2025766</td>\n",
       "      <td>1160638</td>\n",
       "      <td>533834</td>\n",
       "      <td>493800</td>\n",
       "      <td>6914</td>\n",
       "      <td>0</td>\n",
       "      <td>0</td>\n",
       "    </tr>\n",
       "    <tr>\n",
       "      <th>2</th>\n",
       "      <td>pos</td>\n",
       "      <td>72504</td>\n",
       "      <td>na</td>\n",
       "      <td>1594</td>\n",
       "      <td>1052</td>\n",
       "      <td>0</td>\n",
       "      <td>0</td>\n",
       "      <td>0</td>\n",
       "      <td>244</td>\n",
       "      <td>178226</td>\n",
       "      <td>...</td>\n",
       "      <td>1432098</td>\n",
       "      <td>372252</td>\n",
       "      <td>527514</td>\n",
       "      <td>358274</td>\n",
       "      <td>332818</td>\n",
       "      <td>284178</td>\n",
       "      <td>3742</td>\n",
       "      <td>0</td>\n",
       "      <td>0</td>\n",
       "      <td>0</td>\n",
       "    </tr>\n",
       "    <tr>\n",
       "      <th>3</th>\n",
       "      <td>pos</td>\n",
       "      <td>762958</td>\n",
       "      <td>na</td>\n",
       "      <td>na</td>\n",
       "      <td>na</td>\n",
       "      <td>na</td>\n",
       "      <td>na</td>\n",
       "      <td>776</td>\n",
       "      <td>281128</td>\n",
       "      <td>2186308</td>\n",
       "      <td>...</td>\n",
       "      <td>na</td>\n",
       "      <td>na</td>\n",
       "      <td>na</td>\n",
       "      <td>na</td>\n",
       "      <td>na</td>\n",
       "      <td>na</td>\n",
       "      <td>na</td>\n",
       "      <td>na</td>\n",
       "      <td>na</td>\n",
       "      <td>na</td>\n",
       "    </tr>\n",
       "    <tr>\n",
       "      <th>4</th>\n",
       "      <td>pos</td>\n",
       "      <td>695994</td>\n",
       "      <td>na</td>\n",
       "      <td>na</td>\n",
       "      <td>na</td>\n",
       "      <td>na</td>\n",
       "      <td>na</td>\n",
       "      <td>0</td>\n",
       "      <td>0</td>\n",
       "      <td>0</td>\n",
       "      <td>...</td>\n",
       "      <td>1397742</td>\n",
       "      <td>495544</td>\n",
       "      <td>361646</td>\n",
       "      <td>28610</td>\n",
       "      <td>5130</td>\n",
       "      <td>212</td>\n",
       "      <td>0</td>\n",
       "      <td>0</td>\n",
       "      <td>na</td>\n",
       "      <td>na</td>\n",
       "    </tr>\n",
       "  </tbody>\n",
       "</table>\n",
       "<p>5 rows × 171 columns</p>\n",
       "</div>"
      ],
      "text/plain": [
       "  class  aa_000 ab_000 ac_000 ad_000 ae_000 af_000 ag_000  ag_001   ag_002  \\\n",
       "0   pos  153204      0    182     na      0      0      0       0        0   \n",
       "1   pos  453236     na   2926     na      0      0      0       0      222   \n",
       "2   pos   72504     na   1594   1052      0      0      0     244   178226   \n",
       "3   pos  762958     na     na     na     na     na    776  281128  2186308   \n",
       "4   pos  695994     na     na     na     na     na      0       0        0   \n",
       "\n",
       "   ...   ee_002   ee_003   ee_004   ee_005   ee_006  ee_007  ee_008 ee_009  \\\n",
       "0  ...   129862    26872    34044    22472    34362       0       0      0   \n",
       "1  ...  7908038  3026002  5025350  2025766  1160638  533834  493800   6914   \n",
       "2  ...  1432098   372252   527514   358274   332818  284178    3742      0   \n",
       "3  ...       na       na       na       na       na      na      na     na   \n",
       "4  ...  1397742   495544   361646    28610     5130     212       0      0   \n",
       "\n",
       "  ef_000 eg_000  \n",
       "0      0      0  \n",
       "1      0      0  \n",
       "2      0      0  \n",
       "3     na     na  \n",
       "4     na     na  \n",
       "\n",
       "[5 rows x 171 columns]"
      ]
     },
     "execution_count": 12,
     "metadata": {},
     "output_type": "execute_result"
    }
   ],
   "source": [
    "df.head()"
   ]
  },
  {
   "cell_type": "code",
   "execution_count": 17,
   "metadata": {},
   "outputs": [
    {
     "data": {
      "text/plain": [
       "{'class': 'pos',\n",
       " 'aa_000': '153204',\n",
       " 'ab_000': '0',\n",
       " 'ac_000': '182',\n",
       " 'ad_000': 'null',\n",
       " 'ae_000': '0',\n",
       " 'af_000': '0',\n",
       " 'ag_000': '0',\n",
       " 'ag_001': '0',\n",
       " 'ag_002': '0',\n",
       " 'ag_003': '11804',\n",
       " 'ag_004': '684444',\n",
       " 'ag_005': '326536',\n",
       " 'ag_006': '31586',\n",
       " 'ag_007': '0',\n",
       " 'ag_008': '0',\n",
       " 'ag_009': '0',\n",
       " 'ah_000': '2658638',\n",
       " 'ai_000': '14346',\n",
       " 'aj_000': '0',\n",
       " 'ak_000': '0',\n",
       " 'al_000': '29384',\n",
       " 'am_0': '46356',\n",
       " 'an_000': '5566182',\n",
       " 'ao_000': '4426834',\n",
       " 'ap_000': '1571480',\n",
       " 'aq_000': '1120644',\n",
       " 'ar_000': '2',\n",
       " 'as_000': '0',\n",
       " 'at_000': '0',\n",
       " 'au_000': '0',\n",
       " 'av_000': '1368',\n",
       " 'ax_000': '862',\n",
       " 'ay_000': '0',\n",
       " 'ay_001': '0',\n",
       " 'ay_002': '0',\n",
       " 'ay_003': '0',\n",
       " 'ay_004': '0',\n",
       " 'ay_005': '0',\n",
       " 'ay_006': '0',\n",
       " 'ay_007': '94188',\n",
       " 'ay_008': '960182',\n",
       " 'ay_009': '0',\n",
       " 'az_000': '250',\n",
       " 'az_001': '16',\n",
       " 'az_002': '32',\n",
       " 'az_003': '146',\n",
       " 'az_004': '126',\n",
       " 'az_005': '951126',\n",
       " 'az_006': '91162',\n",
       " 'az_007': '11512',\n",
       " 'az_008': '0',\n",
       " 'az_009': '0',\n",
       " 'ba_000': '702994',\n",
       " 'ba_001': '186172',\n",
       " 'ba_002': '69282',\n",
       " 'ba_003': '36640',\n",
       " 'ba_004': '20698',\n",
       " 'ba_005': '17720',\n",
       " 'ba_006': '18586',\n",
       " 'ba_007': '2278',\n",
       " 'ba_008': '0',\n",
       " 'ba_009': '0',\n",
       " 'bb_000': '7167172',\n",
       " 'bc_000': '692',\n",
       " 'bd_000': '152',\n",
       " 'be_000': '1690',\n",
       " 'bf_000': '294',\n",
       " 'bg_000': '2658638',\n",
       " 'bh_000': '126990',\n",
       " 'bi_000': '355360',\n",
       " 'bj_000': '1215418',\n",
       " 'bk_000': '263620',\n",
       " 'bl_000': '263960',\n",
       " 'bm_000': '253220',\n",
       " 'bn_000': '260500',\n",
       " 'bo_000': '270840',\n",
       " 'bp_000': 'null',\n",
       " 'bq_000': 'null',\n",
       " 'br_000': 'null',\n",
       " 'bs_000': '255200',\n",
       " 'bt_000': '153203.49',\n",
       " 'bu_000': '7167172',\n",
       " 'bv_000': '7167172',\n",
       " 'bx_000': '1065896',\n",
       " 'by_000': '2169',\n",
       " 'bz_000': '415352',\n",
       " 'ca_000': '108024',\n",
       " 'cb_000': '1114900',\n",
       " 'cc_000': '6785612',\n",
       " 'cd_000': '1209600',\n",
       " 'ce_000': '0',\n",
       " 'cf_000': 'null',\n",
       " 'cg_000': 'null',\n",
       " 'ch_000': 'null',\n",
       " 'ci_000': '14779408.32',\n",
       " 'cj_000': '5602235.52',\n",
       " 'ck_000': '6587273.28',\n",
       " 'cl_000': '0',\n",
       " 'cm_000': '8',\n",
       " 'cn_000': '0',\n",
       " 'cn_001': '0',\n",
       " 'cn_002': '32854',\n",
       " 'cn_003': '113024',\n",
       " 'cn_004': '413450',\n",
       " 'cn_005': '341800',\n",
       " 'cn_006': '110462',\n",
       " 'cn_007': '40426',\n",
       " 'cn_008': '2354',\n",
       " 'cn_009': '0',\n",
       " 'co_000': 'null',\n",
       " 'cp_000': '0',\n",
       " 'cq_000': '7167172',\n",
       " 'cr_000': '0',\n",
       " 'cs_000': '556',\n",
       " 'cs_001': '62',\n",
       " 'cs_002': '11606',\n",
       " 'cs_003': '370336',\n",
       " 'cs_004': '119892',\n",
       " 'cs_005': '399936',\n",
       " 'cs_006': '149156',\n",
       " 'cs_007': '2826',\n",
       " 'cs_008': '0',\n",
       " 'cs_009': '0',\n",
       " 'ct_000': 'null',\n",
       " 'cu_000': 'null',\n",
       " 'cv_000': 'null',\n",
       " 'cx_000': 'null',\n",
       " 'cy_000': 'null',\n",
       " 'cz_000': 'null',\n",
       " 'da_000': 'null',\n",
       " 'db_000': 'null',\n",
       " 'dc_000': 'null',\n",
       " 'dd_000': '16910',\n",
       " 'de_000': '218',\n",
       " 'df_000': '0',\n",
       " 'dg_000': '0',\n",
       " 'dh_000': '55760',\n",
       " 'di_000': '1433920',\n",
       " 'dj_000': '0',\n",
       " 'dk_000': '0',\n",
       " 'dl_000': '0',\n",
       " 'dm_000': '0',\n",
       " 'dn_000': '51558',\n",
       " 'do_000': '0',\n",
       " 'dp_000': '0',\n",
       " 'dq_000': '0',\n",
       " 'dr_000': '0',\n",
       " 'ds_000': '0',\n",
       " 'dt_000': '0',\n",
       " 'du_000': '0',\n",
       " 'dv_000': '0',\n",
       " 'dx_000': '0',\n",
       " 'dy_000': '0',\n",
       " 'dz_000': '0',\n",
       " 'ea_000': '0',\n",
       " 'eb_000': '0',\n",
       " 'ec_00': '1.9',\n",
       " 'ed_000': '166',\n",
       " 'ee_000': '512878',\n",
       " 'ee_001': '293880',\n",
       " 'ee_002': '129862',\n",
       " 'ee_003': '26872',\n",
       " 'ee_004': '34044',\n",
       " 'ee_005': '22472',\n",
       " 'ee_006': '34362',\n",
       " 'ee_007': '0',\n",
       " 'ee_008': '0',\n",
       " 'ee_009': '0',\n",
       " 'ef_000': '0',\n",
       " 'eg_000': '0'}"
      ]
     },
     "execution_count": 17,
     "metadata": {},
     "output_type": "execute_result"
    }
   ],
   "source": [
    "next(SensorData.get_object('sample_data/car_sensor_topic/aps_failure_training_set1.csv'))"
   ]
  },
  {
   "cell_type": "code",
   "execution_count": 18,
   "metadata": {},
   "outputs": [
    {
     "data": {
      "text/plain": [
       "'sample_data'"
      ]
     },
     "execution_count": 18,
     "metadata": {},
     "output_type": "execute_result"
    }
   ],
   "source": [
    "from src.constant import SAMPLE_DIR\n",
    "\n",
    "SAMPLE_DIR"
   ]
  },
  {
   "cell_type": "code",
   "execution_count": 22,
   "metadata": {},
   "outputs": [
    {
     "name": "stdout",
     "output_type": "stream",
     "text": [
      "topics: [['car_sensor']]\n",
      "sample_data\\car_sensor\n",
      "sample_data\\car_sensor\\aps_failure_training_set1.csv\n"
     ]
    }
   ],
   "source": [
    "import os\n",
    "\n",
    "topics = os.listdir(SAMPLE_DIR)\n",
    "print(f'topics: [{topics}]')\n",
    "\n",
    "for topic in topics:\n",
    "    sample_topic_data_dir = os.path.join(SAMPLE_DIR, topic)\n",
    "    print(sample_topic_data_dir)\n",
    "    sample_file_path = os.path.join(sample_topic_data_dir, os.listdir(sample_topic_data_dir)[0])\n",
    "    print(sample_file_path)"
   ]
  },
  {
   "cell_type": "code",
   "execution_count": null,
   "metadata": {},
   "outputs": [],
   "source": []
  },
  {
   "cell_type": "code",
   "execution_count": 2,
   "metadata": {},
   "outputs": [
    {
     "name": "stdout",
     "output_type": "stream",
     "text": [
      "Pinged your deployment. You successfully connected to MongoDB!\n"
     ]
    }
   ],
   "source": [
    "import os\n",
    "from dotenv import load_dotenv\n",
    "from pymongo import MongoClient\n",
    "\n",
    "# Load environment variables from .env file\n",
    "load_dotenv()\n",
    "\n",
    "# Connection string\n",
    "CONN_STRING = os.getenv('MONGODB_CONN_STRING')\n",
    "\n",
    "# Connect to MongoDB\n",
    "client = MongoClient(CONN_STRING)\n",
    "\n",
    "# Send a ping to confirm a successful connection\n",
    "try:\n",
    "    client.admin.command('ping')\n",
    "    print(\"Pinged your deployment. You successfully connected to MongoDB!\")\n",
    "except Exception as e:\n",
    "    print(e)"
   ]
  },
  {
   "cell_type": "code",
   "execution_count": 3,
   "metadata": {},
   "outputs": [],
   "source": [
    "# Select the database\n",
    "db = client['sensor_db']\n",
    "\n",
    "# Select the collection\n",
    "collection = db['car_sensor']"
   ]
  },
  {
   "cell_type": "code",
   "execution_count": 8,
   "metadata": {},
   "outputs": [
    {
     "name": "stdout",
     "output_type": "stream",
     "text": [
      "Total Documents Found :  79\n"
     ]
    }
   ],
   "source": [
    "# Query the collection\n",
    "\n",
    "find_query = {\"aa_000\": {\"$gt\": \"70000\"}}\n",
    "\n",
    "count_results = collection.count_documents(find_query)\n",
    "print(\"Total Documents Found : \",count_results)"
   ]
  }
 ],
 "metadata": {
  "kernelspec": {
   "display_name": "Python 3",
   "language": "python",
   "name": "python3"
  },
  "language_info": {
   "codemirror_mode": {
    "name": "ipython",
    "version": 3
   },
   "file_extension": ".py",
   "mimetype": "text/x-python",
   "name": "python",
   "nbconvert_exporter": "python",
   "pygments_lexer": "ipython3",
   "version": "3.11.0"
  }
 },
 "nbformat": 4,
 "nbformat_minor": 2
}
